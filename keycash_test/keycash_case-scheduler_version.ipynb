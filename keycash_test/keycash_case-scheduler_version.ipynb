{
 "cells": [
  {
   "cell_type": "code",
   "execution_count": 2,
   "id": "de767932-5048-4704-8e23-e2a28d022392",
   "metadata": {},
   "outputs": [],
   "source": [
    "from urllib.request import urlopen\n",
    "from zipfile import ZipFile\n",
    "import pandas as pd\n",
    "from google.cloud import bigquery\n",
    "import json\n",
    "import os\n",
    "import schedule\n",
    "import time "
   ]
  },
  {
   "cell_type": "code",
   "execution_count": 3,
   "id": "7a5d5c27-7376-4d1d-b70a-20f4a340829e",
   "metadata": {
    "tags": []
   },
   "outputs": [],
   "source": [
    "def download_zip_into_folder(zipurl, zip_file_name):\n",
    "\n",
    "    zipresp = urlopen(zipurl)\n",
    "\n",
    "    tempzip = open(zip_file_name, \"wb\")\n",
    "\n",
    "    tempzip.write(zipresp.read())\n",
    "\n",
    "    tempzip.close()\n",
    "\n",
    "def extract_zip(zip_file_name):\n",
    "    zf = ZipFile(zip_file_name)\n",
    "\n",
    "    zf.extractall()\n",
    "        \n",
    "    zf.close()\n",
    "    \n",
    "    \n",
    "def read_json_files(datasets_folder):\n",
    "\n",
    "    files = os.listdir(datasets_folder)\n",
    "    df_list = []\n",
    "\n",
    "\n",
    "    for f in files:\n",
    "        path = datasets_folder + '/' + f\n",
    "        file_reading = json.loads(open(path).read())\n",
    "\n",
    "        df = pd.DataFrame.from_dict(file_reading['clientes'])\n",
    "        df_list.append(df)\n",
    "\n",
    "    final_df = pd.concat(df_list).reset_index(drop = True)\n",
    "    return final_df\n",
    "    \n",
    "\n",
    "def update_to_bigquery():\n",
    "    client = bigquery.Client.from_service_account_json(\"key.json\")\n",
    "    \n",
    "    # Read all json files into a dataframe\n",
    "    datasets_folder = 'Data Engineer - Challenge'\n",
    "    df_dir = read_json_files(datasets_folder)\n",
    "\n",
    "    # Read all data from Big query\n",
    "    df_gbq = client.query(\"SELECT * FROM `keycashtest.keycash_dataset.LANDING_TABLE`\").\\\n",
    "        result().\\\n",
    "        to_dataframe()\n",
    "\n",
    "    # Finds new rows (Full Outer Join with exclusion) using list comprehension by id's\n",
    "    id_list = [id_ for id_ in df_dir['id'].values if id_ not in df_gbq['id'].values]\n",
    "\n",
    "    df_new = df_dir[df_dir['id'].isin(id_list)]\n",
    "\n",
    "    df_final = pd.concat([df_gbq, df_new]).reset_index(drop = True)\n",
    "    df_final['data_solicitacao'] = pd.to_datetime(df_final['data_solicitacao'], infer_datetime_format=True)\n",
    "\n",
    "    # Updates to Big Query table\n",
    "    tableRef = client.dataset(\"keycash_dataset\").table(\"LANDING_TABLE\")\n",
    "\n",
    "    bigqueryJob = client.load_table_from_dataframe(df_final, tableRef)\n",
    "    bigqueryJob.result()\n",
    "\n"
   ]
  },
  {
   "cell_type": "code",
   "execution_count": 4,
   "id": "f8267b59-a552-4e95-ae32-ad7600a91ece",
   "metadata": {},
   "outputs": [],
   "source": [
    "zip_url = 'https://keycash-mkt.s3.amazonaws.com/vagas/Data-Engineer-Challenge.zip'\n",
    "zip_file_name = \"DE_challenge.zip\"\n",
    "download_zip_into_folder(zip_url, zip_file_name)\n",
    "extract_zip(zip_file_name)"
   ]
  },
  {
   "cell_type": "markdown",
   "id": "9c9728cb-d767-4a50-b2f9-55456d5994db",
   "metadata": {},
   "source": [
    "# Updating bigquery"
   ]
  },
  {
   "cell_type": "code",
   "execution_count": null,
   "id": "5dc971fb-1e00-4c21-84be-97c07079da60",
   "metadata": {},
   "outputs": [],
   "source": [
    "schedule.every().day.at(\"15:30\").do(update_to_bigquery) \n",
    "while 1: \n",
    "    schedule.run_pending()\n",
    "    time.sleep(90)"
   ]
  },
  {
   "cell_type": "code",
   "execution_count": 30,
   "id": "1627bdbe-1b65-4b97-a5aa-b1caa2f416d3",
   "metadata": {},
   "outputs": [],
   "source": [
    "query = \"DELETE FROM `keycashtest.keycash_dataset.LANDING_TABLE` WHERE 1=1;\"\n",
    "\n",
    "output=client.query(query)"
   ]
  }
 ],
 "metadata": {
  "kernelspec": {
   "display_name": "Python 3",
   "language": "python",
   "name": "python3"
  },
  "language_info": {
   "codemirror_mode": {
    "name": "ipython",
    "version": 3
   },
   "file_extension": ".py",
   "mimetype": "text/x-python",
   "name": "python",
   "nbconvert_exporter": "python",
   "pygments_lexer": "ipython3",
   "version": "3.8.8"
  }
 },
 "nbformat": 4,
 "nbformat_minor": 5
}
