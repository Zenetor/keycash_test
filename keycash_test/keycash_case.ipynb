{
 "cells": [
  {
   "cell_type": "code",
   "execution_count": 8,
   "id": "de767932-5048-4704-8e23-e2a28d022392",
   "metadata": {},
   "outputs": [],
   "source": [
    "from urllib.request import urlopen\n",
    "from zipfile import ZipFile\n",
    "import pandas as pd\n",
    "from google.cloud import bigquery\n",
    "import json\n",
    "import os"
   ]
  },
  {
   "cell_type": "code",
   "execution_count": 10,
   "id": "7a5d5c27-7376-4d1d-b70a-20f4a340829e",
   "metadata": {
    "tags": []
   },
   "outputs": [],
   "source": [
    "def download_zip_into_folder(zipurl, zip_file_name):\n",
    "\n",
    "    zipresp = urlopen(zipurl)\n",
    "\n",
    "    tempzip = open(zip_file_name, \"wb\")\n",
    "\n",
    "    tempzip.write(zipresp.read())\n",
    "\n",
    "    tempzip.close()\n",
    "\n",
    "def extract_zip(zip_file_name):\n",
    "    zf = ZipFile(zip_file_name)\n",
    "\n",
    "    zf.extractall()\n",
    "        \n",
    "    zf.close()\n",
    "    \n",
    "    \n",
    "def read_json_files(datasets_folder):\n",
    "\n",
    "    files = os.listdir(datasets_folder)\n",
    "    df_list = []\n",
    "\n",
    "\n",
    "    for f in files:\n",
    "        path = datasets_folder + '/' + f\n",
    "        file_reading = json.loads(open(path).read())\n",
    "\n",
    "        df = pd.DataFrame.from_dict(file_reading['clientes'])\n",
    "        df_list.append(df)\n",
    "\n",
    "    final_df = pd.concat(df_list).reset_index(drop = True)\n",
    "    return final_df\n",
    "    \n"
   ]
  },
  {
   "cell_type": "code",
   "execution_count": 11,
   "id": "f8267b59-a552-4e95-ae32-ad7600a91ece",
   "metadata": {},
   "outputs": [],
   "source": [
    "zip_url = 'https://keycash-mkt.s3.amazonaws.com/vagas/Data-Engineer-Challenge.zip'\n",
    "zip_file_name = \"DE_challenge.zip\"\n",
    "download_zip_into_folder(zip_url, zip_file_name)\n",
    "extract_zip(zip_file_name)"
   ]
  },
  {
   "cell_type": "markdown",
   "id": "9c9728cb-d767-4a50-b2f9-55456d5994db",
   "metadata": {},
   "source": [
    "# Updating bigquery"
   ]
  },
  {
   "cell_type": "code",
   "execution_count": 12,
   "id": "8bc5b35a-0922-4e56-ae78-dbb7d585132f",
   "metadata": {},
   "outputs": [],
   "source": [
    "client = bigquery.Client.from_service_account_json(\"key.json\")"
   ]
  },
  {
   "cell_type": "code",
   "execution_count": 13,
   "id": "30563d3f-0243-46ee-a0cd-a9761b2eb1c9",
   "metadata": {},
   "outputs": [
    {
     "name": "stdout",
     "output_type": "stream",
     "text": [
      "Found new dataset\n",
      "output_0.json\n",
      "Updating into Big Query...\n",
      "Big Query updated sucefully\n",
      "\n",
      "\n",
      "Found new dataset\n",
      "output_1.json\n",
      "Updating into Big Query...\n",
      "Big Query updated sucefully\n",
      "\n",
      "\n"
     ]
    },
    {
     "ename": "KeyboardInterrupt",
     "evalue": "",
     "output_type": "error",
     "traceback": [
      "\u001b[1;31m---------------------------------------------------------------------------\u001b[0m",
      "\u001b[1;31mKeyboardInterrupt\u001b[0m                         Traceback (most recent call last)",
      "\u001b[1;32m<ipython-input-13-afca6804c440>\u001b[0m in \u001b[0;36m<module>\u001b[1;34m\u001b[0m\n\u001b[0;32m      3\u001b[0m \u001b[1;33m\u001b[0m\u001b[0m\n\u001b[0;32m      4\u001b[0m \u001b[1;32mwhile\u001b[0m\u001b[1;33m(\u001b[0m\u001b[1;32mTrue\u001b[0m\u001b[1;33m)\u001b[0m\u001b[1;33m:\u001b[0m\u001b[1;33m\u001b[0m\u001b[1;33m\u001b[0m\u001b[0m\n\u001b[1;32m----> 5\u001b[1;33m     \u001b[0mdataset_list\u001b[0m \u001b[1;33m=\u001b[0m \u001b[0mos\u001b[0m\u001b[1;33m.\u001b[0m\u001b[0mlistdir\u001b[0m\u001b[1;33m(\u001b[0m\u001b[0mdatasets_folder\u001b[0m\u001b[1;33m)\u001b[0m\u001b[1;33m\u001b[0m\u001b[1;33m\u001b[0m\u001b[0m\n\u001b[0m\u001b[0;32m      6\u001b[0m \u001b[1;33m\u001b[0m\u001b[0m\n\u001b[0;32m      7\u001b[0m     \u001b[1;32mif\u001b[0m \u001b[0mdataset_list\u001b[0m \u001b[1;33m!=\u001b[0m \u001b[0mlast_dataset_list\u001b[0m\u001b[1;33m:\u001b[0m\u001b[1;33m\u001b[0m\u001b[1;33m\u001b[0m\u001b[0m\n",
      "\u001b[1;31mKeyboardInterrupt\u001b[0m: "
     ]
    }
   ],
   "source": [
    "datasets_folder = 'datasets'\n",
    "last_dataset_list = os.listdir(datasets_folder)\n",
    "\n",
    "while(True):\n",
    "    dataset_list = os.listdir(datasets_folder)\n",
    "    \n",
    "    if dataset_list != last_dataset_list:\n",
    "        \n",
    "        new_datasets = [dataset for dataset in dataset_list if dataset not in last_dataset_list]\n",
    "        last_dataset_list = os.listdir(datasets_folder)\n",
    "        \n",
    "        \n",
    "        print(\"Found new dataset\")\n",
    "        print(new_datasets[0])\n",
    "        \n",
    "        print(\"Updating into Big Query...\")\n",
    "        \n",
    "        # Read all json files into a dataframe\n",
    "        datasets_folder = 'datasets'\n",
    "        df_dir = read_json_files(datasets_folder)\n",
    "\n",
    "        # Read all data from Big query\n",
    "        df_gbq = client.query(\"SELECT * FROM `keycashtest.keycash_dataset.LANDING_TABLE`\").\\\n",
    "            result().\\\n",
    "            to_dataframe()\n",
    "\n",
    "        # Finds new rows (Full Outer Join with exclusion) using list comprehension by id's\n",
    "        # VERY IMPORTANT: here we avoid duplicated rows in bugquery\n",
    "        id_list = [id_ for id_ in df_dir['id'].values if id_ not in df_gbq['id'].values]\n",
    "\n",
    "        df_new = df_dir[df_dir['id'].isin(id_list)]\n",
    "\n",
    "        df_final = pd.concat([df_gbq, df_new]).reset_index(drop = True)\n",
    "        df_final['data_solicitacao'] = pd.to_datetime(df_final['data_solicitacao'], infer_datetime_format=True)\n",
    "        \n",
    "        # Cleaning current dataset\n",
    "        query = \"DELETE FROM `keycashtest.keycash_dataset.LANDING_TABLE` WHERE 1=1;\"\n",
    "\n",
    "        #output=client.query(query)\n",
    "\n",
    "        # Updates to Big Query table\n",
    "        tableRef = client.dataset(\"keycash_dataset\").table(\"LANDING_TABLE\")\n",
    "\n",
    "        bigqueryJob = client.load_table_from_dataframe(df_final, tableRef)\n",
    "        bigqueryJob.result()\n",
    "        \n",
    "        print(\"Big Query updated sucefully\")\n",
    "        print(\"\\n\")\n",
    "\n",
    "        \n",
    "    \n",
    "    "
   ]
  },
  {
   "cell_type": "code",
   "execution_count": 14,
   "id": "1627bdbe-1b65-4b97-a5aa-b1caa2f416d3",
   "metadata": {},
   "outputs": [],
   "source": [
    "query = \"DELETE FROM `keycashtest.keycash_dataset.LANDING_TABLE` WHERE 1=1;\"\n",
    "\n",
    "output=client.query(query)"
   ]
  }
 ],
 "metadata": {
  "kernelspec": {
   "display_name": "Python 3",
   "language": "python",
   "name": "python3"
  },
  "language_info": {
   "codemirror_mode": {
    "name": "ipython",
    "version": 3
   },
   "file_extension": ".py",
   "mimetype": "text/x-python",
   "name": "python",
   "nbconvert_exporter": "python",
   "pygments_lexer": "ipython3",
   "version": "3.8.8"
  }
 },
 "nbformat": 4,
 "nbformat_minor": 5
}
